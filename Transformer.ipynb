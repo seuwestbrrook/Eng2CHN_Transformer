{
 "cells": [
  {
   "cell_type": "code",
   "id": "initial_id",
   "metadata": {
    "collapsed": true,
    "ExecuteTime": {
     "end_time": "2025-05-18T11:56:38.245413Z",
     "start_time": "2025-05-18T11:56:38.238138Z"
    }
   },
   "source": [
    "import pandas as pd\n",
    "import torch\n",
    "import torch.nn as nn\n",
    "import torch.optim as optim\n",
    "from torchtext.data.utils import get_tokenizer\n",
    "from torchtext.vocab import build_vocab_from_iterator\n",
    "from torch.utils.data import Dataset, DataLoader\n",
    "from torch.nn.utils.rnn import pad_sequence\n",
    "from sklearn.model_selection import train_test_split\n",
    "import math"
   ],
   "outputs": [],
   "execution_count": 2
  },
  {
   "metadata": {
    "ExecuteTime": {
     "end_time": "2025-05-18T11:56:38.299022Z",
     "start_time": "2025-05-18T11:56:38.289111Z"
    }
   },
   "cell_type": "code",
   "source": [
    "device = torch.device('cuda' if torch.cuda.is_available() else 'cpu')\n",
    "print(f'using device:{device}')"
   ],
   "id": "c6d40807f2c1828",
   "outputs": [
    {
     "name": "stdout",
     "output_type": "stream",
     "text": [
      "using device:cpu\n"
     ]
    },
    {
     "name": "stderr",
     "output_type": "stream",
     "text": [
      "\n",
      "A module that was compiled using NumPy 1.x cannot be run in\n",
      "NumPy 2.2.6 as it may crash. To support both 1.x and 2.x\n",
      "versions of NumPy, modules must be compiled with NumPy 2.0.\n",
      "Some module may need to rebuild instead e.g. with 'pybind11>=2.12'.\n",
      "\n",
      "If you are a user of the module, the easiest solution will be to\n",
      "downgrade to 'numpy<2' or try to upgrade the affected module.\n",
      "We expect that some modules will need time to support NumPy 2.\n",
      "\n",
      "Traceback (most recent call last):  File \"<frozen runpy>\", line 198, in _run_module_as_main\n",
      "  File \"<frozen runpy>\", line 88, in _run_code\n",
      "  File \"F:\\flask_test03\\Eng2CHN_Transformer\\.venv\\Lib\\site-packages\\ipykernel_launcher.py\", line 18, in <module>\n",
      "    app.launch_new_instance()\n",
      "  File \"F:\\flask_test03\\Eng2CHN_Transformer\\.venv\\Lib\\site-packages\\traitlets\\config\\application.py\", line 1075, in launch_instance\n",
      "    app.start()\n",
      "  File \"F:\\flask_test03\\Eng2CHN_Transformer\\.venv\\Lib\\site-packages\\ipykernel\\kernelapp.py\", line 739, in start\n",
      "    self.io_loop.start()\n",
      "  File \"F:\\flask_test03\\Eng2CHN_Transformer\\.venv\\Lib\\site-packages\\tornado\\platform\\asyncio.py\", line 211, in start\n",
      "    self.asyncio_loop.run_forever()\n",
      "  File \"F:\\toolbox\\python\\Lib\\asyncio\\base_events.py\", line 607, in run_forever\n",
      "    self._run_once()\n",
      "  File \"F:\\toolbox\\python\\Lib\\asyncio\\base_events.py\", line 1922, in _run_once\n",
      "    handle._run()\n",
      "  File \"F:\\toolbox\\python\\Lib\\asyncio\\events.py\", line 80, in _run\n",
      "    self._context.run(self._callback, *self._args)\n",
      "  File \"F:\\flask_test03\\Eng2CHN_Transformer\\.venv\\Lib\\site-packages\\ipykernel\\kernelbase.py\", line 545, in dispatch_queue\n",
      "    await self.process_one()\n",
      "  File \"F:\\flask_test03\\Eng2CHN_Transformer\\.venv\\Lib\\site-packages\\ipykernel\\kernelbase.py\", line 534, in process_one\n",
      "    await dispatch(*args)\n",
      "  File \"F:\\flask_test03\\Eng2CHN_Transformer\\.venv\\Lib\\site-packages\\ipykernel\\kernelbase.py\", line 437, in dispatch_shell\n",
      "    await result\n",
      "  File \"F:\\flask_test03\\Eng2CHN_Transformer\\.venv\\Lib\\site-packages\\ipykernel\\ipkernel.py\", line 362, in execute_request\n",
      "    await super().execute_request(stream, ident, parent)\n",
      "  File \"F:\\flask_test03\\Eng2CHN_Transformer\\.venv\\Lib\\site-packages\\ipykernel\\kernelbase.py\", line 778, in execute_request\n",
      "    reply_content = await reply_content\n",
      "  File \"F:\\flask_test03\\Eng2CHN_Transformer\\.venv\\Lib\\site-packages\\ipykernel\\ipkernel.py\", line 449, in do_execute\n",
      "    res = shell.run_cell(\n",
      "  File \"F:\\flask_test03\\Eng2CHN_Transformer\\.venv\\Lib\\site-packages\\ipykernel\\zmqshell.py\", line 549, in run_cell\n",
      "    return super().run_cell(*args, **kwargs)\n",
      "  File \"F:\\flask_test03\\Eng2CHN_Transformer\\.venv\\Lib\\site-packages\\IPython\\core\\interactiveshell.py\", line 3098, in run_cell\n",
      "    result = self._run_cell(\n",
      "  File \"F:\\flask_test03\\Eng2CHN_Transformer\\.venv\\Lib\\site-packages\\IPython\\core\\interactiveshell.py\", line 3153, in _run_cell\n",
      "    result = runner(coro)\n",
      "  File \"F:\\flask_test03\\Eng2CHN_Transformer\\.venv\\Lib\\site-packages\\IPython\\core\\async_helpers.py\", line 128, in _pseudo_sync_runner\n",
      "    coro.send(None)\n",
      "  File \"F:\\flask_test03\\Eng2CHN_Transformer\\.venv\\Lib\\site-packages\\IPython\\core\\interactiveshell.py\", line 3365, in run_cell_async\n",
      "    has_raised = await self.run_ast_nodes(code_ast.body, cell_name,\n",
      "  File \"F:\\flask_test03\\Eng2CHN_Transformer\\.venv\\Lib\\site-packages\\IPython\\core\\interactiveshell.py\", line 3610, in run_ast_nodes\n",
      "    if await self.run_code(code, result, async_=asy):\n",
      "  File \"F:\\flask_test03\\Eng2CHN_Transformer\\.venv\\Lib\\site-packages\\IPython\\core\\interactiveshell.py\", line 3670, in run_code\n",
      "    exec(code_obj, self.user_global_ns, self.user_ns)\n",
      "  File \"C:\\Users\\lenovo\\AppData\\Local\\Temp\\ipykernel_28288\\2581615188.py\", line 1, in <module>\n",
      "    device = torch.device('cuda' if torch.cuda.is_available() else 'cpu')\n",
      "C:\\Users\\lenovo\\AppData\\Local\\Temp\\ipykernel_28288\\2581615188.py:1: UserWarning: Failed to initialize NumPy: _ARRAY_API not found (Triggered internally at ..\\torch\\csrc\\utils\\tensor_numpy.cpp:84.)\n",
      "  device = torch.device('cuda' if torch.cuda.is_available() else 'cpu')\n"
     ]
    }
   ],
   "execution_count": 3
  },
  {
   "metadata": {},
   "cell_type": "markdown",
   "source": "",
   "id": "6891f2c697ad6de1"
  },
  {
   "metadata": {
    "ExecuteTime": {
     "end_time": "2025-05-18T11:56:38.500070Z",
     "start_time": "2025-05-18T11:56:38.308526Z"
    }
   },
   "cell_type": "code",
   "source": [
    "file_path = 'data/cmn.txt'\n",
    "data = []\n",
    "#读取文件每一行\n",
    "with open(file_path, 'r', encoding='utf-8') as file:\n",
    "    for line in file:  #读取每一行\n",
    "        #通过制表符分开\n",
    "        parts = line.strip().split('\\t')\n",
    "        if len(parts) >= 2:\n",
    "            english_sentence = parts[0].strip()  #提取英语句子\n",
    "            chinese_sentence = parts[1].strip()  #提取中文句子\n",
    "            data.append([english_sentence, chinese_sentence])\n",
    "\n",
    "#接下来创建DataFrame保存提取的句子\n",
    "df = pd.DataFrame(data, columns=['English', 'Chinese'])\n",
    "\n",
    "#将处理后的英文和中文句子保存为两个文件\n",
    "df['English'].to_csv('data/english_sentences.txt', index=False, header=False)\n",
    "df['Chinese'].to_csv('data/Chinese_sentences.txt', index=False, header=False)\n",
    "\n",
    "#显示前几行数据\n",
    "print(df.head())"
   ],
   "id": "ddc25a9bcf9ace0c",
   "outputs": [
    {
     "name": "stdout",
     "output_type": "stream",
     "text": [
      "  English Chinese\n",
      "0     Hi.      嗨。\n",
      "1     Hi.     你好。\n",
      "2    Run.   你用跑的。\n",
      "3   Stop!     住手！\n",
      "4   Wait!     等等！\n"
     ]
    }
   ],
   "execution_count": 4
  },
  {
   "metadata": {
    "ExecuteTime": {
     "end_time": "2025-05-18T11:56:38.529795Z",
     "start_time": "2025-05-18T11:56:38.524258Z"
    }
   },
   "cell_type": "code",
   "source": [
    "tokenizer_en = get_tokenizer('basic_english')  #这里是加载分词器\n",
    "#测试分词器\n",
    "print('分词器测试：')\n",
    "tem_sentence = 'I like studying hard.What about you?'\n",
    "tem_token = tokenizer_en(tem_sentence)\n",
    "print(tem_token)"
   ],
   "id": "ff294fbfb32789d3",
   "outputs": [
    {
     "name": "stdout",
     "output_type": "stream",
     "text": [
      "分词器测试：\n",
      "['i', 'like', 'studying', 'hard', '.', 'what', 'about', 'you', '?']\n"
     ]
    }
   ],
   "execution_count": 5
  },
  {
   "metadata": {
    "ExecuteTime": {
     "end_time": "2025-05-18T11:56:38.558439Z",
     "start_time": "2025-05-18T11:56:38.552215Z"
    }
   },
   "cell_type": "code",
   "source": [
    "#定义中文分词器\n",
    "def tokenizer_zh(text):\n",
    "    return list(text)  #将每个汉字作为一个token\n",
    "\n",
    "\n",
    "#构建词汇表函数\n",
    "def build_vocab(sentences, tokenizer):\n",
    "    '''\n",
    "    根据给定的句子列表和分词器构建词汇表\n",
    "    :param sentences: 句子列表\n",
    "    :param tokenizer: 分词器函数\n",
    "    :return: 词汇表\n",
    "    '''\n",
    "\n",
    "    def yield_tokens(sentences):\n",
    "        for sentence in sentences:\n",
    "            yield tokenizer(sentence)\n",
    "\n",
    "    vocab = build_vocab_from_iterator(yield_tokens(sentences), specials=['<unk>', '<pad>', '<bos>', '<eos>'])\n",
    "    vocab.set_default_index(vocab['<unk>'])  # 设置默认索引为 <unk>\n",
    "    return vocab\n",
    "\n"
   ],
   "id": "864df7d05ffc0a02",
   "outputs": [],
   "execution_count": 6
  },
  {
   "metadata": {
    "ExecuteTime": {
     "end_time": "2025-05-18T11:56:38.843747Z",
     "start_time": "2025-05-18T11:56:38.594831Z"
    }
   },
   "cell_type": "code",
   "source": [
    "# 从文件中加载句子\n",
    "with open('data/english_sentences.txt', 'r', encoding='utf-8') as f:\n",
    "    english_sentences = [line.strip() for line in f]\n",
    "\n",
    "with open('data/chinese_sentences.txt', 'r', encoding='utf-8') as f:\n",
    "    chinese_sentences = [line.strip() for line in f]\n",
    "\n",
    "# 构建英文和中文的词汇表\n",
    "en_vocab = build_vocab(english_sentences, tokenizer_en)\n",
    "zh_vocab = build_vocab(chinese_sentences, tokenizer_zh)\n",
    "\n",
    "print(f'英文词汇表大小：{len(en_vocab)}')\n",
    "print(f'中文词汇表大小：{len(zh_vocab)}')\n"
   ],
   "id": "2a6afecf2386a050",
   "outputs": [
    {
     "name": "stdout",
     "output_type": "stream",
     "text": [
      "英文词汇表大小：7193\n",
      "中文词汇表大小：3657\n"
     ]
    }
   ],
   "execution_count": 7
  },
  {
   "metadata": {
    "ExecuteTime": {
     "end_time": "2025-05-18T11:56:39.605781Z",
     "start_time": "2025-05-18T11:56:38.864396Z"
    }
   },
   "cell_type": "code",
   "source": [
    "# 定义将句子转换为索引序列的函数\n",
    "def process_sentence(sentence, tokenizer, vocab):\n",
    "    \"\"\"\n",
    "    将句子转换为索引序列，并添加 <bos> 和 <eos>,起始符合终结符\n",
    "    :param sentence: 输入句子\n",
    "    :param tokenizer: 分词器函数\n",
    "    :param vocab: 对应的词汇表\n",
    "    :return: 索引序列\n",
    "    \"\"\"\n",
    "    tokens = tokenizer(sentence)\n",
    "    tokens = ['<bos>'] + tokens + ['<eos>']\n",
    "    indices = [vocab[token] for token in tokens]\n",
    "    return indices\n",
    "\n",
    "\n",
    "en_sequences = [process_sentence(sentence, tokenizer_en, en_vocab) for sentence in english_sentences]\n",
    "zh_sequences = [process_sentence(sentence, tokenizer_zh, zh_vocab) for sentence in chinese_sentences]\n",
    "\n",
    "# 查看示例句子的索引序列\n",
    "print(\"示例英文句子索引序列：\", en_sequences[0:30])\n",
    "print(\"示例中文句子索引序列：\", zh_sequences[0:30])"
   ],
   "id": "ba95791d12477157",
   "outputs": [
    {
     "name": "stdout",
     "output_type": "stream",
     "text": [
      "示例英文句子索引序列： [[2, 1475, 4, 3], [2, 1475, 4, 3], [2, 557, 4, 3], [2, 259, 127, 3], [2, 218, 127, 3], [2, 218, 127, 3], [2, 593, 4, 3], [2, 1859, 127, 3], [2, 6, 276, 4, 3], [2, 6, 186, 127, 3], [2, 2078, 68, 127, 3], [2, 4949, 127, 3], [2, 85, 17, 10, 3], [2, 85, 17, 10, 3], [2, 85, 17, 10, 3], [2, 15, 521, 4, 3], [2, 5677, 18, 4, 3], [2, 6, 47, 4, 3], [2, 6, 698, 4, 3], [2, 6, 698, 4, 3], [2, 6, 5, 36, 749, 4, 3], [2, 6, 5, 36, 65, 4, 3], [2, 561, 4, 3], [2, 68, 184, 127, 3], [2, 68, 184, 127, 3], [2, 125, 10, 3], [2, 125, 10, 3], [2, 646, 127, 3], [2, 276, 17, 4, 3], [2, 30, 276, 4, 3]]\n",
      "示例中文句子索引序列： [[2, 2145, 4, 3], [2, 8, 35, 4, 3], [2, 8, 96, 437, 6, 4, 3], [2, 171, 155, 168, 3], [2, 203, 203, 168, 3], [2, 203, 13, 47, 168, 3], [2, 130, 229, 168, 3], [2, 8, 35, 4, 3], [2, 5, 368, 368, 4, 3], [2, 5, 1074, 7, 4, 3], [2, 10, 48, 205, 4, 3], [2, 1199, 460, 879, 3], [2, 51, 49, 7, 52, 16, 12, 3], [2, 551, 7, 42, 12, 3], [2, 8, 551, 7, 42, 12, 3], [2, 9, 437, 7, 4, 3], [2, 745, 427, 53, 4, 3], [2, 5, 51, 49, 4, 3], [2, 5, 877, 81, 4, 3], [2, 5, 10, 492, 7, 4, 3], [2, 5, 70, 61, 4, 3], [2, 5, 156, 215, 68, 53, 7, 4, 3], [2, 289, 150, 4, 3], [2, 10, 54, 37, 168, 3], [2, 52, 411, 168, 3], [2, 88, 6, 12, 3], [2, 8, 532, 159, 12, 3], [2, 359, 359, 168, 3], [2, 368, 368, 205, 4, 3], [2, 5, 28, 53, 368, 368, 4, 3]]\n"
     ]
    }
   ],
   "execution_count": 8
  },
  {
   "metadata": {
    "ExecuteTime": {
     "end_time": "2025-05-18T11:56:39.917746Z",
     "start_time": "2025-05-18T11:56:39.617861Z"
    }
   },
   "cell_type": "code",
   "source": [
    "from data_loader import TranslationDataset\n",
    "\n",
    "\n",
    "def collate_fn(batch):\n",
    "    '''\n",
    "    自定义collate_fn，将批次中的样本进行填充对齐\n",
    "    :param batch:\n",
    "    :return:\n",
    "    '''\n",
    "    src_batch, trg_batch = [], []\n",
    "    for src_sample, trg_sample in batch:\n",
    "        src_batch.append(src_sample)\n",
    "        trg_batch.append(trg_sample)\n",
    "    src_batch = pad_sequence(src_batch, padding_value=en_vocab['<pad>'], batch_first=True)\n",
    "    trg_batch = pad_sequence(trg_batch, padding_value=zh_vocab['<pad>'], batch_first=True)\n",
    "    return src_batch, trg_batch\n",
    "\n",
    "\n",
    "#创建数据集对象\n",
    "dataset = TranslationDataset(en_sequences, zh_sequences)\n",
    "\n",
    "#划分训练集和验证集\n",
    "train_data, val_data = train_test_split(dataset, test_size=0.1)\n",
    "\n",
    "#创建数据加载器\n",
    "batch_size = 32\n",
    "train_dataloader = DataLoader(train_data, batch_size=batch_size, shuffle=True, collate_fn=collate_fn)\n",
    "val_dataloader = DataLoader(val_data, batch_size=batch_size, shuffle=False, collate_fn=collate_fn)"
   ],
   "id": "7c19c62f18d05b57",
   "outputs": [],
   "execution_count": 9
  },
  {
   "metadata": {
    "ExecuteTime": {
     "end_time": "2025-05-18T11:56:40.624188Z",
     "start_time": "2025-05-18T11:56:39.941167Z"
    }
   },
   "cell_type": "code",
   "source": [
    "import numpy as np\n",
    "import matplotlib.pyplot as plt\n",
    "\n",
    "\n",
    "def get_absolute_positional_encoding(seq_len, d_model):\n",
    "    position = np.arange(seq_len)[:, np.newaxis]\n",
    "    div_term = np.exp(np.arange(0, d_model, 2) * -(np.log(10000.0) / d_model))\n",
    "    pe = np.zeros((seq_len, d_model))\n",
    "    pe[:, 0::2] = np.sin(position * div_term)\n",
    "    pe[:, 1::2] = np.cos(position * div_term)\n",
    "    return pe\n",
    "\n",
    "\n",
    "# 假设句子长度为8，d_model为32\n",
    "sentence = \"我爱你，中国。\"\n",
    "seq_len = len(sentence)\n",
    "d_model = 32\n",
    "\n",
    "absolute_positional_encoding = get_absolute_positional_encoding(seq_len, d_model)\n",
    "print(absolute_positional_encoding)\n",
    "# 展示绝对位置编码的效果\n",
    "plt.figure(figsize=(12, 8))\n",
    "plt.imshow(absolute_positional_encoding, cmap='viridis')\n",
    "plt.colorbar()\n",
    "plt.title(\"Absolute Positional Encoding\")\n",
    "plt.xlabel(\"d_model dimensions\")\n",
    "plt.ylabel(\"Position in Sentence\")\n",
    "plt.show()\n"
   ],
   "id": "5b04ee10ad4e2403",
   "outputs": [
    {
     "name": "stdout",
     "output_type": "stream",
     "text": [
      "[[ 0.00000000e+00  1.00000000e+00  0.00000000e+00  1.00000000e+00\n",
      "   0.00000000e+00  1.00000000e+00  0.00000000e+00  1.00000000e+00\n",
      "   0.00000000e+00  1.00000000e+00  0.00000000e+00  1.00000000e+00\n",
      "   0.00000000e+00  1.00000000e+00  0.00000000e+00  1.00000000e+00\n",
      "   0.00000000e+00  1.00000000e+00  0.00000000e+00  1.00000000e+00\n",
      "   0.00000000e+00  1.00000000e+00  0.00000000e+00  1.00000000e+00\n",
      "   0.00000000e+00  1.00000000e+00  0.00000000e+00  1.00000000e+00\n",
      "   0.00000000e+00  1.00000000e+00  0.00000000e+00  1.00000000e+00]\n",
      " [ 8.41470985e-01  5.40302306e-01  5.33168440e-01  8.46009110e-01\n",
      "   3.10983593e-01  9.50415280e-01  1.76892186e-01  9.84230234e-01\n",
      "   9.98334166e-02  9.95004165e-01  5.62044992e-02  9.98419278e-01\n",
      "   3.16175064e-02  9.99500042e-01  1.77818569e-02  9.99841890e-01\n",
      "   9.99983333e-03  9.99950000e-01  5.62338361e-03  9.99984189e-01\n",
      "   3.16227239e-03  9.99995000e-01  1.77827847e-03  9.99998419e-01\n",
      "   9.99999833e-04  9.99999500e-01  5.62341296e-04  9.99999842e-01\n",
      "   3.16227761e-04  9.99999950e-01  1.77827940e-04  9.99999984e-01]\n",
      " [ 9.09297427e-01 -4.16146837e-01  9.02130715e-01  4.31462829e-01\n",
      "   5.91127117e-01  8.06578410e-01  3.48205276e-01  9.37418309e-01\n",
      "   1.98669331e-01  9.80066578e-01  1.12231311e-01  9.93682109e-01\n",
      "   6.32033979e-02  9.98000667e-01  3.55580908e-02  9.99367611e-01\n",
      "   1.99986667e-02  9.99800007e-01  1.12465894e-02  9.99936755e-01\n",
      "   6.32451316e-03  9.99980000e-01  3.55655132e-03  9.99993675e-01\n",
      "   1.99999867e-03  9.99998000e-01  1.12468241e-03  9.99999368e-01\n",
      "   6.32455490e-04  9.99999800e-01  3.55655875e-04  9.99999937e-01]\n",
      " [ 1.41120008e-01 -9.89992497e-01  9.93253167e-01 -1.15966142e-01\n",
      "   8.12648897e-01  5.82753611e-01  5.08536134e-01  8.61040649e-01\n",
      "   2.95520207e-01  9.55336489e-01  1.67903310e-01  9.85803469e-01\n",
      "   9.47260913e-02  9.95503374e-01  5.33230805e-02  9.98577313e-01\n",
      "   2.99955002e-02  9.99550034e-01  1.68694395e-02  9.99857701e-01\n",
      "   9.48669068e-03  9.99955000e-01  5.33481292e-03  9.99985770e-01\n",
      "   2.99999550e-03  9.99995500e-01  1.68702318e-03  9.99998577e-01\n",
      "   9.48683156e-04  9.99999550e-01  5.33483798e-04  9.99999858e-01]\n",
      " [-7.56802495e-01 -6.53643621e-01  7.78471741e-01 -6.27679654e-01\n",
      "   9.53580740e-01  3.01137463e-01  6.52828002e-01  7.57506172e-01\n",
      "   3.89418342e-01  9.21060994e-01  2.23044492e-01  9.74808266e-01\n",
      "   1.26154067e-01  9.92010661e-01  7.10712085e-02  9.97471244e-01\n",
      "   3.99893342e-02  9.99200107e-01  2.24917562e-02  9.99747028e-01\n",
      "   1.26487733e-02  9.99920001e-01  7.11305766e-03  9.99974702e-01\n",
      "   3.99998933e-03  9.99992000e-01  2.24936340e-03  9.99997470e-01\n",
      "   1.26491073e-03  9.99999200e-01  7.11311704e-04  9.99999747e-01]\n",
      " [-9.58924275e-01  2.83662185e-01  3.23935204e-01 -9.46079269e-01\n",
      "   9.99946517e-01 -1.03423189e-02  7.76529980e-01  6.30080304e-01\n",
      "   4.79425539e-01  8.77582562e-01  2.77480531e-01  9.60731261e-01\n",
      "   1.57455898e-01  9.87526020e-01  8.87968624e-02  9.96049756e-01\n",
      "   4.99791693e-02  9.98750260e-01  2.81133617e-02  9.99604741e-01\n",
      "   1.58107295e-02  9.99875003e-01  8.89127990e-03  9.99960472e-01\n",
      "   4.99997917e-03  9.99987500e-01  2.81170292e-03  9.99996047e-01\n",
      "   1.58113817e-03  9.99998750e-01  8.89139588e-04  9.99999605e-01]\n",
      " [-2.79415498e-01  9.60170287e-01 -2.30367475e-01 -9.73103708e-01\n",
      "   9.47148158e-01 -3.20796458e-01  8.75740567e-01  4.82782000e-01\n",
      "   5.64642473e-01  8.25335615e-01  3.31039330e-01  9.43616957e-01\n",
      "   1.88600287e-01  9.82053935e-01  1.06494437e-01  9.94313298e-01\n",
      "   5.99640065e-02  9.98200540e-01  3.37340781e-02  9.99430844e-01\n",
      "   1.89725276e-02  9.99820005e-01  1.06694740e-02  9.99943080e-01\n",
      "   5.99996400e-03  9.99982000e-01  3.37404155e-03  9.99994308e-01\n",
      "   1.89736546e-03  9.99998200e-01  1.06696744e-03  9.99999431e-01]]\n"
     ]
    },
    {
     "data": {
      "text/plain": [
       "<Figure size 1200x800 with 2 Axes>"
      ],
      "image/png": "[encoded data removed]"
     },
     "metadata": {},
     "output_type": "display_data"
    }
   ],
   "execution_count": 10
  },
  {
   "metadata": {
    "ExecuteTime": {
     "end_time": "2025-05-18T11:56:40.662591Z",
     "start_time": "2025-05-18T11:56:40.649576Z"
    }
   },
   "cell_type": "code",
   "source": [
    "from Encoder import Encoder\n",
    "from Decoder import Decoder\n",
    "\n",
    "\n",
    "class Transformer(nn.Module):\n",
    "    def __init__(self, encoder, decoder):\n",
    "        super().__init__()\n",
    "        self.encoder = encoder\n",
    "        self.decoder = decoder\n",
    "\n",
    "    def make_src_mask(self, src):\n",
    "        #生成原序列的掩码，屏蔽填充位置\n",
    "        # 生成源序列的掩码，屏蔽填充位置\n",
    "        src_mask = (src != en_vocab['<pad>']).unsqueeze(1).unsqueeze(2)\n",
    "        return src_mask  # [batch_size, 1, 1, src_len]\n",
    "\n",
    "    def make_trg_mask(self, trg):\n",
    "        trg_pad_mask = (trg != zh_vocab['<pad>']).unsqueeze(1).unsqueeze(2)  # [B, 1, 1, T]\n",
    "        trg_len = trg.size(1)\n",
    "        trg_sub_mask = torch.tril(torch.ones((trg_len, trg_len), device=trg.device)).bool()\n",
    "        trg_sub_mask = trg_sub_mask.unsqueeze(0).unsqueeze(1)  # [1, 1, T, T]\n",
    "\n",
    "        trg_mask = trg_pad_mask & trg_sub_mask  # [B, 1, T, T]\n",
    "\n",
    "        return trg_mask\n",
    "\n",
    "    def forward(self, src, trg):\n",
    "        src_mask = self.make_src_mask(src)  #给原序列添加掩蔽\n",
    "        trg_mask = self.make_trg_mask(trg)  #给生成序列添加\n",
    "        enc_output = self.encoder(src, src_mask)  #经过编码器\n",
    "        output = self.decoder(trg, enc_output, src_mask, trg_mask)\n",
    "        return output\n",
    "        \n",
    "        \n",
    "        \n",
    "        "
   ],
   "id": "80782aae3bd87a76",
   "outputs": [],
   "execution_count": 11
  },
  {
   "metadata": {
    "ExecuteTime": {
     "end_time": "2025-05-18T11:56:42.583518Z",
     "start_time": "2025-05-18T11:56:40.675361Z"
    }
   },
   "cell_type": "code",
   "source": [
    "input_dim = len(en_vocab)\n",
    "output_dim = len(zh_vocab)\n",
    "print(input_dim)\n",
    "print(output_dim)\n",
    "d_model = 512  #词向量维度\n",
    "num_heads = 8  #多头注意力机制的头数\n",
    "d_ff = 2048  #这里是FNN的隐藏层维度\n",
    "num_layers = 3\n",
    "dropout = 0.1\n",
    "\n",
    "#实例化编码器，解码器和Transformer\n",
    "encoder = Encoder(input_dim, d_model, num_heads, d_ff, num_layers, dropout)\n",
    "decoder = Decoder(output_dim, d_model, num_heads, d_ff, num_layers, dropout)\n",
    "model = Transformer(encoder, decoder).to(device)\n",
    "\n",
    "#定义损失函数和优化器\n",
    "criterion = nn.CrossEntropyLoss(ignore_index=zh_vocab['<pad>'])\n",
    "optimizer = optim.Adam(model.parameters(), lr=0.0001)"
   ],
   "id": "f18576b699765f6e",
   "outputs": [
    {
     "name": "stdout",
     "output_type": "stream",
     "text": [
      "7193\n",
      "3657\n"
     ]
    }
   ],
   "execution_count": 12
  },
  {
   "metadata": {
    "ExecuteTime": {
     "end_time": "2025-05-18T11:56:42.605898Z",
     "start_time": "2025-05-18T11:56:42.598820Z"
    }
   },
   "cell_type": "code",
   "source": [
    "def train(model, dataloader, optimizer, criterion):\n",
    "    model.train()\n",
    "    epoch_loss = 0\n",
    "    for src, trg in dataloader:\n",
    "        src = src.to(device)\n",
    "        trg = trg.to(device)\n",
    "        optimizer.zero_grad()\n",
    "        output = model(src, trg[:, :-1])  # 输入不包括最后一个词\n",
    "        output_dim = output.shape[-1]\n",
    "        output = output.contiguous().view(-1, output_dim)\n",
    "        trg = trg[:, 1:].contiguous().view(-1)  # 目标不包括第一个词\n",
    "        loss = criterion(output, trg)\n",
    "        loss.backward()\n",
    "        optimizer.step()\n",
    "        epoch_loss += loss.item()\n",
    "    return epoch_loss / len(dataloader)\n",
    "\n",
    "\n",
    "# 定义验证函数\n",
    "def evaluate(model, dataloader, criterion):\n",
    "    model.eval()\n",
    "    epoch_loss = 0\n",
    "    with torch.no_grad():\n",
    "        for src, trg in dataloader:\n",
    "            src = src.to(device)\n",
    "            trg = trg.to(device)\n",
    "            output = model(src, trg[:, :-1])\n",
    "            output_dim = output.shape[-1]\n",
    "            output = output.contiguous().view(-1, output_dim)\n",
    "            trg = trg[:, 1:].contiguous().view(-1)\n",
    "            loss = criterion(output, trg)\n",
    "            epoch_loss += loss.item()\n",
    "    return epoch_loss / len(dataloader)"
   ],
   "id": "487e14e5d2c5a980",
   "outputs": [],
   "execution_count": 13
  },
  {
   "metadata": {
    "ExecuteTime": {
     "start_time": "2025-05-18T11:56:42.620449Z"
    }
   },
   "cell_type": "code",
   "source": [
    "n_epochs = 10\n",
    "\n",
    "for epoch in range(n_epochs):\n",
    "    train_loss = train(model, train_dataloader, optimizer, criterion)\n",
    "    val_loss = evaluate(model, val_dataloader, criterion)\n",
    "    print(f'Epoch {epoch + 1}/{n_epochs}, Train Loss: {train_loss:.3f}, Val Loss: {val_loss:.3f}')"
   ],
   "id": "4734346ac6a68d14",
   "outputs": [
    {
     "ename": "KeyboardInterrupt",
     "evalue": "",
     "output_type": "error",
     "traceback": [
      "\u001B[31m---------------------------------------------------------------------------\u001B[39m",
      "\u001B[31mKeyboardInterrupt\u001B[39m                         Traceback (most recent call last)",
      "\u001B[36mCell\u001B[39m\u001B[36m \u001B[39m\u001B[32mIn[14]\u001B[39m\u001B[32m, line 4\u001B[39m\n\u001B[32m      1\u001B[39m n_epochs = \u001B[32m10\u001B[39m\n\u001B[32m      3\u001B[39m \u001B[38;5;28;01mfor\u001B[39;00m epoch \u001B[38;5;129;01min\u001B[39;00m \u001B[38;5;28mrange\u001B[39m(n_epochs):\n\u001B[32m----> \u001B[39m\u001B[32m4\u001B[39m     train_loss = \u001B[43mtrain\u001B[49m\u001B[43m(\u001B[49m\u001B[43mmodel\u001B[49m\u001B[43m,\u001B[49m\u001B[43m \u001B[49m\u001B[43mtrain_dataloader\u001B[49m\u001B[43m,\u001B[49m\u001B[43m \u001B[49m\u001B[43moptimizer\u001B[49m\u001B[43m,\u001B[49m\u001B[43m \u001B[49m\u001B[43mcriterion\u001B[49m\u001B[43m)\u001B[49m\n\u001B[32m      5\u001B[39m     val_loss = evaluate(model, val_dataloader, criterion)\n\u001B[32m      6\u001B[39m     \u001B[38;5;28mprint\u001B[39m(\u001B[33mf\u001B[39m\u001B[33m'\u001B[39m\u001B[33mEpoch \u001B[39m\u001B[38;5;132;01m{\u001B[39;00mepoch\u001B[38;5;250m \u001B[39m+\u001B[38;5;250m \u001B[39m\u001B[32m1\u001B[39m\u001B[38;5;132;01m}\u001B[39;00m\u001B[33m/\u001B[39m\u001B[38;5;132;01m{\u001B[39;00mn_epochs\u001B[38;5;132;01m}\u001B[39;00m\u001B[33m, Train Loss: \u001B[39m\u001B[38;5;132;01m{\u001B[39;00mtrain_loss\u001B[38;5;132;01m:\u001B[39;00m\u001B[33m.3f\u001B[39m\u001B[38;5;132;01m}\u001B[39;00m\u001B[33m, Val Loss: \u001B[39m\u001B[38;5;132;01m{\u001B[39;00mval_loss\u001B[38;5;132;01m:\u001B[39;00m\u001B[33m.3f\u001B[39m\u001B[38;5;132;01m}\u001B[39;00m\u001B[33m'\u001B[39m)\n",
      "\u001B[36mCell\u001B[39m\u001B[36m \u001B[39m\u001B[32mIn[13]\u001B[39m\u001B[32m, line 14\u001B[39m, in \u001B[36mtrain\u001B[39m\u001B[34m(model, dataloader, optimizer, criterion)\u001B[39m\n\u001B[32m     12\u001B[39m     loss = criterion(output, trg)\n\u001B[32m     13\u001B[39m     loss.backward()\n\u001B[32m---> \u001B[39m\u001B[32m14\u001B[39m     \u001B[43moptimizer\u001B[49m\u001B[43m.\u001B[49m\u001B[43mstep\u001B[49m\u001B[43m(\u001B[49m\u001B[43m)\u001B[49m\n\u001B[32m     15\u001B[39m     epoch_loss += loss.item()\n\u001B[32m     16\u001B[39m \u001B[38;5;28;01mreturn\u001B[39;00m epoch_loss / \u001B[38;5;28mlen\u001B[39m(dataloader)\n",
      "\u001B[36mFile \u001B[39m\u001B[32mF:\\flask_test03\\Eng2CHN_Transformer\\.venv\\Lib\\site-packages\\torch\\optim\\optimizer.py:391\u001B[39m, in \u001B[36mOptimizer.profile_hook_step.<locals>.wrapper\u001B[39m\u001B[34m(*args, **kwargs)\u001B[39m\n\u001B[32m    386\u001B[39m         \u001B[38;5;28;01melse\u001B[39;00m:\n\u001B[32m    387\u001B[39m             \u001B[38;5;28;01mraise\u001B[39;00m \u001B[38;5;167;01mRuntimeError\u001B[39;00m(\n\u001B[32m    388\u001B[39m                 \u001B[33mf\u001B[39m\u001B[33m\"\u001B[39m\u001B[38;5;132;01m{\u001B[39;00mfunc\u001B[38;5;132;01m}\u001B[39;00m\u001B[33m must return None or a tuple of (new_args, new_kwargs), but got \u001B[39m\u001B[38;5;132;01m{\u001B[39;00mresult\u001B[38;5;132;01m}\u001B[39;00m\u001B[33m.\u001B[39m\u001B[33m\"\u001B[39m\n\u001B[32m    389\u001B[39m             )\n\u001B[32m--> \u001B[39m\u001B[32m391\u001B[39m out = \u001B[43mfunc\u001B[49m\u001B[43m(\u001B[49m\u001B[43m*\u001B[49m\u001B[43margs\u001B[49m\u001B[43m,\u001B[49m\u001B[43m \u001B[49m\u001B[43m*\u001B[49m\u001B[43m*\u001B[49m\u001B[43mkwargs\u001B[49m\u001B[43m)\u001B[49m\n\u001B[32m    392\u001B[39m \u001B[38;5;28mself\u001B[39m._optimizer_step_code()\n\u001B[32m    394\u001B[39m \u001B[38;5;66;03m# call optimizer step post hooks\u001B[39;00m\n",
      "\u001B[36mFile \u001B[39m\u001B[32mF:\\flask_test03\\Eng2CHN_Transformer\\.venv\\Lib\\site-packages\\torch\\optim\\optimizer.py:76\u001B[39m, in \u001B[36m_use_grad_for_differentiable.<locals>._use_grad\u001B[39m\u001B[34m(self, *args, **kwargs)\u001B[39m\n\u001B[32m     74\u001B[39m     torch.set_grad_enabled(\u001B[38;5;28mself\u001B[39m.defaults[\u001B[33m'\u001B[39m\u001B[33mdifferentiable\u001B[39m\u001B[33m'\u001B[39m])\n\u001B[32m     75\u001B[39m     torch._dynamo.graph_break()\n\u001B[32m---> \u001B[39m\u001B[32m76\u001B[39m     ret = \u001B[43mfunc\u001B[49m\u001B[43m(\u001B[49m\u001B[38;5;28;43mself\u001B[39;49m\u001B[43m,\u001B[49m\u001B[43m \u001B[49m\u001B[43m*\u001B[49m\u001B[43margs\u001B[49m\u001B[43m,\u001B[49m\u001B[43m \u001B[49m\u001B[43m*\u001B[49m\u001B[43m*\u001B[49m\u001B[43mkwargs\u001B[49m\u001B[43m)\u001B[49m\n\u001B[32m     77\u001B[39m \u001B[38;5;28;01mfinally\u001B[39;00m:\n\u001B[32m     78\u001B[39m     torch._dynamo.graph_break()\n",
      "\u001B[36mFile \u001B[39m\u001B[32mF:\\flask_test03\\Eng2CHN_Transformer\\.venv\\Lib\\site-packages\\torch\\optim\\adam.py:168\u001B[39m, in \u001B[36mAdam.step\u001B[39m\u001B[34m(self, closure)\u001B[39m\n\u001B[32m    157\u001B[39m     beta1, beta2 = group[\u001B[33m'\u001B[39m\u001B[33mbetas\u001B[39m\u001B[33m'\u001B[39m]\n\u001B[32m    159\u001B[39m     has_complex = \u001B[38;5;28mself\u001B[39m._init_group(\n\u001B[32m    160\u001B[39m         group,\n\u001B[32m    161\u001B[39m         params_with_grad,\n\u001B[32m   (...)\u001B[39m\u001B[32m    165\u001B[39m         max_exp_avg_sqs,\n\u001B[32m    166\u001B[39m         state_steps)\n\u001B[32m--> \u001B[39m\u001B[32m168\u001B[39m     \u001B[43madam\u001B[49m\u001B[43m(\u001B[49m\n\u001B[32m    169\u001B[39m \u001B[43m        \u001B[49m\u001B[43mparams_with_grad\u001B[49m\u001B[43m,\u001B[49m\n\u001B[32m    170\u001B[39m \u001B[43m        \u001B[49m\u001B[43mgrads\u001B[49m\u001B[43m,\u001B[49m\n\u001B[32m    171\u001B[39m \u001B[43m        \u001B[49m\u001B[43mexp_avgs\u001B[49m\u001B[43m,\u001B[49m\n\u001B[32m    172\u001B[39m \u001B[43m        \u001B[49m\u001B[43mexp_avg_sqs\u001B[49m\u001B[43m,\u001B[49m\n\u001B[32m    173\u001B[39m \u001B[43m        \u001B[49m\u001B[43mmax_exp_avg_sqs\u001B[49m\u001B[43m,\u001B[49m\n\u001B[32m    174\u001B[39m \u001B[43m        \u001B[49m\u001B[43mstate_steps\u001B[49m\u001B[43m,\u001B[49m\n\u001B[32m    175\u001B[39m \u001B[43m        \u001B[49m\u001B[43mamsgrad\u001B[49m\u001B[43m=\u001B[49m\u001B[43mgroup\u001B[49m\u001B[43m[\u001B[49m\u001B[33;43m'\u001B[39;49m\u001B[33;43mamsgrad\u001B[39;49m\u001B[33;43m'\u001B[39;49m\u001B[43m]\u001B[49m\u001B[43m,\u001B[49m\n\u001B[32m    176\u001B[39m \u001B[43m        \u001B[49m\u001B[43mhas_complex\u001B[49m\u001B[43m=\u001B[49m\u001B[43mhas_complex\u001B[49m\u001B[43m,\u001B[49m\n\u001B[32m    177\u001B[39m \u001B[43m        \u001B[49m\u001B[43mbeta1\u001B[49m\u001B[43m=\u001B[49m\u001B[43mbeta1\u001B[49m\u001B[43m,\u001B[49m\n\u001B[32m    178\u001B[39m \u001B[43m        \u001B[49m\u001B[43mbeta2\u001B[49m\u001B[43m=\u001B[49m\u001B[43mbeta2\u001B[49m\u001B[43m,\u001B[49m\n\u001B[32m    179\u001B[39m \u001B[43m        \u001B[49m\u001B[43mlr\u001B[49m\u001B[43m=\u001B[49m\u001B[43mgroup\u001B[49m\u001B[43m[\u001B[49m\u001B[33;43m'\u001B[39;49m\u001B[33;43mlr\u001B[39;49m\u001B[33;43m'\u001B[39;49m\u001B[43m]\u001B[49m\u001B[43m,\u001B[49m\n\u001B[32m    180\u001B[39m \u001B[43m        \u001B[49m\u001B[43mweight_decay\u001B[49m\u001B[43m=\u001B[49m\u001B[43mgroup\u001B[49m\u001B[43m[\u001B[49m\u001B[33;43m'\u001B[39;49m\u001B[33;43mweight_decay\u001B[39;49m\u001B[33;43m'\u001B[39;49m\u001B[43m]\u001B[49m\u001B[43m,\u001B[49m\n\u001B[32m    181\u001B[39m \u001B[43m        \u001B[49m\u001B[43meps\u001B[49m\u001B[43m=\u001B[49m\u001B[43mgroup\u001B[49m\u001B[43m[\u001B[49m\u001B[33;43m'\u001B[39;49m\u001B[33;43meps\u001B[39;49m\u001B[33;43m'\u001B[39;49m\u001B[43m]\u001B[49m\u001B[43m,\u001B[49m\n\u001B[32m    182\u001B[39m \u001B[43m        \u001B[49m\u001B[43mmaximize\u001B[49m\u001B[43m=\u001B[49m\u001B[43mgroup\u001B[49m\u001B[43m[\u001B[49m\u001B[33;43m'\u001B[39;49m\u001B[33;43mmaximize\u001B[39;49m\u001B[33;43m'\u001B[39;49m\u001B[43m]\u001B[49m\u001B[43m,\u001B[49m\n\u001B[32m    183\u001B[39m \u001B[43m        \u001B[49m\u001B[43mforeach\u001B[49m\u001B[43m=\u001B[49m\u001B[43mgroup\u001B[49m\u001B[43m[\u001B[49m\u001B[33;43m'\u001B[39;49m\u001B[33;43mforeach\u001B[39;49m\u001B[33;43m'\u001B[39;49m\u001B[43m]\u001B[49m\u001B[43m,\u001B[49m\n\u001B[32m    184\u001B[39m \u001B[43m        \u001B[49m\u001B[43mcapturable\u001B[49m\u001B[43m=\u001B[49m\u001B[43mgroup\u001B[49m\u001B[43m[\u001B[49m\u001B[33;43m'\u001B[39;49m\u001B[33;43mcapturable\u001B[39;49m\u001B[33;43m'\u001B[39;49m\u001B[43m]\u001B[49m\u001B[43m,\u001B[49m\n\u001B[32m    185\u001B[39m \u001B[43m        \u001B[49m\u001B[43mdifferentiable\u001B[49m\u001B[43m=\u001B[49m\u001B[43mgroup\u001B[49m\u001B[43m[\u001B[49m\u001B[33;43m'\u001B[39;49m\u001B[33;43mdifferentiable\u001B[39;49m\u001B[33;43m'\u001B[39;49m\u001B[43m]\u001B[49m\u001B[43m,\u001B[49m\n\u001B[32m    186\u001B[39m \u001B[43m        \u001B[49m\u001B[43mfused\u001B[49m\u001B[43m=\u001B[49m\u001B[43mgroup\u001B[49m\u001B[43m[\u001B[49m\u001B[33;43m'\u001B[39;49m\u001B[33;43mfused\u001B[39;49m\u001B[33;43m'\u001B[39;49m\u001B[43m]\u001B[49m\u001B[43m,\u001B[49m\n\u001B[32m    187\u001B[39m \u001B[43m        \u001B[49m\u001B[43mgrad_scale\u001B[49m\u001B[43m=\u001B[49m\u001B[38;5;28;43mgetattr\u001B[39;49m\u001B[43m(\u001B[49m\u001B[38;5;28;43mself\u001B[39;49m\u001B[43m,\u001B[49m\u001B[43m \u001B[49m\u001B[33;43m\"\u001B[39;49m\u001B[33;43mgrad_scale\u001B[39;49m\u001B[33;43m\"\u001B[39;49m\u001B[43m,\u001B[49m\u001B[43m \u001B[49m\u001B[38;5;28;43;01mNone\u001B[39;49;00m\u001B[43m)\u001B[49m\u001B[43m,\u001B[49m\n\u001B[32m    188\u001B[39m \u001B[43m        \u001B[49m\u001B[43mfound_inf\u001B[49m\u001B[43m=\u001B[49m\u001B[38;5;28;43mgetattr\u001B[39;49m\u001B[43m(\u001B[49m\u001B[38;5;28;43mself\u001B[39;49m\u001B[43m,\u001B[49m\u001B[43m \u001B[49m\u001B[33;43m\"\u001B[39;49m\u001B[33;43mfound_inf\u001B[39;49m\u001B[33;43m\"\u001B[39;49m\u001B[43m,\u001B[49m\u001B[43m \u001B[49m\u001B[38;5;28;43;01mNone\u001B[39;49;00m\u001B[43m)\u001B[49m\u001B[43m,\u001B[49m\n\u001B[32m    189\u001B[39m \u001B[43m    \u001B[49m\u001B[43m)\u001B[49m\n\u001B[32m    191\u001B[39m \u001B[38;5;28;01mreturn\u001B[39;00m loss\n",
      "\u001B[36mFile \u001B[39m\u001B[32mF:\\flask_test03\\Eng2CHN_Transformer\\.venv\\Lib\\site-packages\\torch\\optim\\adam.py:318\u001B[39m, in \u001B[36madam\u001B[39m\u001B[34m(params, grads, exp_avgs, exp_avg_sqs, max_exp_avg_sqs, state_steps, foreach, capturable, differentiable, fused, grad_scale, found_inf, has_complex, amsgrad, beta1, beta2, lr, weight_decay, eps, maximize)\u001B[39m\n\u001B[32m    315\u001B[39m \u001B[38;5;28;01melse\u001B[39;00m:\n\u001B[32m    316\u001B[39m     func = _single_tensor_adam\n\u001B[32m--> \u001B[39m\u001B[32m318\u001B[39m \u001B[43mfunc\u001B[49m\u001B[43m(\u001B[49m\u001B[43mparams\u001B[49m\u001B[43m,\u001B[49m\n\u001B[32m    319\u001B[39m \u001B[43m     \u001B[49m\u001B[43mgrads\u001B[49m\u001B[43m,\u001B[49m\n\u001B[32m    320\u001B[39m \u001B[43m     \u001B[49m\u001B[43mexp_avgs\u001B[49m\u001B[43m,\u001B[49m\n\u001B[32m    321\u001B[39m \u001B[43m     \u001B[49m\u001B[43mexp_avg_sqs\u001B[49m\u001B[43m,\u001B[49m\n\u001B[32m    322\u001B[39m \u001B[43m     \u001B[49m\u001B[43mmax_exp_avg_sqs\u001B[49m\u001B[43m,\u001B[49m\n\u001B[32m    323\u001B[39m \u001B[43m     \u001B[49m\u001B[43mstate_steps\u001B[49m\u001B[43m,\u001B[49m\n\u001B[32m    324\u001B[39m \u001B[43m     \u001B[49m\u001B[43mamsgrad\u001B[49m\u001B[43m=\u001B[49m\u001B[43mamsgrad\u001B[49m\u001B[43m,\u001B[49m\n\u001B[32m    325\u001B[39m \u001B[43m     \u001B[49m\u001B[43mhas_complex\u001B[49m\u001B[43m=\u001B[49m\u001B[43mhas_complex\u001B[49m\u001B[43m,\u001B[49m\n\u001B[32m    326\u001B[39m \u001B[43m     \u001B[49m\u001B[43mbeta1\u001B[49m\u001B[43m=\u001B[49m\u001B[43mbeta1\u001B[49m\u001B[43m,\u001B[49m\n\u001B[32m    327\u001B[39m \u001B[43m     \u001B[49m\u001B[43mbeta2\u001B[49m\u001B[43m=\u001B[49m\u001B[43mbeta2\u001B[49m\u001B[43m,\u001B[49m\n\u001B[32m    328\u001B[39m \u001B[43m     \u001B[49m\u001B[43mlr\u001B[49m\u001B[43m=\u001B[49m\u001B[43mlr\u001B[49m\u001B[43m,\u001B[49m\n\u001B[32m    329\u001B[39m \u001B[43m     \u001B[49m\u001B[43mweight_decay\u001B[49m\u001B[43m=\u001B[49m\u001B[43mweight_decay\u001B[49m\u001B[43m,\u001B[49m\n\u001B[32m    330\u001B[39m \u001B[43m     \u001B[49m\u001B[43meps\u001B[49m\u001B[43m=\u001B[49m\u001B[43meps\u001B[49m\u001B[43m,\u001B[49m\n\u001B[32m    331\u001B[39m \u001B[43m     \u001B[49m\u001B[43mmaximize\u001B[49m\u001B[43m=\u001B[49m\u001B[43mmaximize\u001B[49m\u001B[43m,\u001B[49m\n\u001B[32m    332\u001B[39m \u001B[43m     \u001B[49m\u001B[43mcapturable\u001B[49m\u001B[43m=\u001B[49m\u001B[43mcapturable\u001B[49m\u001B[43m,\u001B[49m\n\u001B[32m    333\u001B[39m \u001B[43m     \u001B[49m\u001B[43mdifferentiable\u001B[49m\u001B[43m=\u001B[49m\u001B[43mdifferentiable\u001B[49m\u001B[43m,\u001B[49m\n\u001B[32m    334\u001B[39m \u001B[43m     \u001B[49m\u001B[43mgrad_scale\u001B[49m\u001B[43m=\u001B[49m\u001B[43mgrad_scale\u001B[49m\u001B[43m,\u001B[49m\n\u001B[32m    335\u001B[39m \u001B[43m     \u001B[49m\u001B[43mfound_inf\u001B[49m\u001B[43m=\u001B[49m\u001B[43mfound_inf\u001B[49m\u001B[43m)\u001B[49m\n",
      "\u001B[36mFile \u001B[39m\u001B[32mF:\\flask_test03\\Eng2CHN_Transformer\\.venv\\Lib\\site-packages\\torch\\optim\\adam.py:394\u001B[39m, in \u001B[36m_single_tensor_adam\u001B[39m\u001B[34m(params, grads, exp_avgs, exp_avg_sqs, max_exp_avg_sqs, state_steps, grad_scale, found_inf, amsgrad, has_complex, beta1, beta2, lr, weight_decay, eps, maximize, capturable, differentiable)\u001B[39m\n\u001B[32m    392\u001B[39m \u001B[38;5;66;03m# Decay the first and second moment running average coefficient\u001B[39;00m\n\u001B[32m    393\u001B[39m exp_avg.lerp_(grad, \u001B[32m1\u001B[39m - beta1)\n\u001B[32m--> \u001B[39m\u001B[32m394\u001B[39m \u001B[43mexp_avg_sq\u001B[49m\u001B[43m.\u001B[49m\u001B[43mmul_\u001B[49m\u001B[43m(\u001B[49m\u001B[43mbeta2\u001B[49m\u001B[43m)\u001B[49m.addcmul_(grad, grad.conj(), value=\u001B[32m1\u001B[39m - beta2)\n\u001B[32m    396\u001B[39m \u001B[38;5;28;01mif\u001B[39;00m capturable \u001B[38;5;129;01mor\u001B[39;00m differentiable:\n\u001B[32m    397\u001B[39m     step = step_t\n",
      "\u001B[31mKeyboardInterrupt\u001B[39m: "
     ]
    }
   ],
   "execution_count": 14
  },
  {
   "metadata": {},
   "cell_type": "code",
   "outputs": [],
   "execution_count": null,
   "source": [
    "#定义翻译函数\n",
    "def translate_sentence(sentence, model, en_vocab, zh_vocab, tokenizer_en, max_len=50):\n",
    "    \"\"\"\n",
    "    翻译英文句子为中文\n",
    "    :param sentence: 英文句子（字符串）\n",
    "    :param model: 训练好的 Transformer 模型\n",
    "    :param en_vocab: 英文词汇表\n",
    "    :param zh_vocab: 中文词汇表\n",
    "    :param tokenizer_en: 英文分词器\n",
    "    :param max_len: 最大翻译长度\n",
    "    :return: 中文翻译（字符串）\n",
    "    \"\"\"\n",
    "    model.eval()\n",
    "    tokens = tokenizer_en(sentence)\n",
    "    tokens = ['<bos>'] + tokens + ['<eos>']\n",
    "    src_indices = [en_vocab[token] for token in tokens]\n",
    "    src_tensor = torch.LongTensor(src_indices).unsqueeze(0).to(device)  # [1, src_len]\n",
    "    src_mask = model.make_src_mask(src_tensor)\n",
    "    with torch.no_grad():\n",
    "        enc_output = model.encoder(src_tensor, src_mask)\n",
    "    trg_indices = [zh_vocab['<bos>']]\n",
    "    for i in range(max_len):\n",
    "        trg_tensor = torch.LongTensor(trg_indices).unsqueeze(0).to(device)  # [1, trg_len]\n",
    "        trg_mask = model.make_trg_mask(trg_tensor)\n",
    "        with torch.no_grad():\n",
    "            output = model.decoder(trg_tensor, enc_output, src_mask, trg_mask)\n",
    "        pred_token = output.argmax(-1)[:, -1].item()\n",
    "        trg_indices.append(pred_token)\n",
    "        if pred_token == zh_vocab['<eos>']:\n",
    "            break\n",
    "    trg_tokens = [zh_vocab.lookup_token(idx) for idx in trg_indices]\n",
    "    return ''.join(trg_tokens[1:-1])  # 去除 <bos> 和 <eos>\n",
    "\n",
    "\n",
    "\n",
    "input_sentence = 'How old are you?'\n",
    "translation = translate_sentence(input_sentence, model, en_vocab, zh_vocab, tokenizer_en)\n",
    "print(f\"英文句子: {input_sentence}\")\n",
    "print(f\"中文翻译: {translation}\")\n",
    "\n",
    "# 您可以在此处输入其他英文句子进行测试\n",
    "while True:\n",
    "    input_sentence = input(\"请输入英文句子（输入 'quit' 退出）：\")\n",
    "    if input_sentence.lower() == 'quit':\n",
    "        break\n",
    "    translation = translate_sentence(input_sentence, model, en_vocab, zh_vocab, tokenizer_en)\n",
    "    print(f\"中文翻译: {translation}\")"
   ],
   "id": "d2c3ec3c3f5ce00f"
  }
 ],
 "metadata": {
  "kernelspec": {
   "display_name": "Python 3",
   "language": "python",
   "name": "python3"
  },
  "language_info": {
   "codemirror_mode": {
    "name": "ipython",
    "version": 2
   },
   "file_extension": ".py",
   "mimetype": "text/x-python",
   "name": "python",
   "nbconvert_exporter": "python",
   "pygments_lexer": "ipython2",
   "version": "2.7.6"
  }
 },
 "nbformat": 4,
 "nbformat_minor": 5
}
